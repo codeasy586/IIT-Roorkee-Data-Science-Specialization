{
 "cells": [
  {
   "cell_type": "markdown",
   "metadata": {
    "collapsed": true
   },
   "source": [
    "### Define a function number_of_lines\n",
    "### Open the file mbox-short.txt which is located at /cxldata/datasets/project/mbox-short.txt\n",
    "### Read the file into one string by using read method on file handle\n",
    "### Write logic to count the number of lines\n",
    "### Return the count of the number of lines\n",
    "### PS - If your logic is correct then your function should return 1910."
   ]
  },
  {
   "cell_type": "code",
   "execution_count": 9,
   "metadata": {},
   "outputs": [],
   "source": [
    "def number_of_lines():\n",
    "    count = 0\n",
    "    fhand = open('/cxldata/datasets/project/mbox-short.txt')\n",
    "    inp = fhand.read()\n",
    "    for line in inp:\n",
    "        if(line == '\\n'):\n",
    "            count+=1\n",
    "    fhand.close()\n",
    "    return count"
   ]
  },
  {
   "cell_type": "code",
   "execution_count": 10,
   "metadata": {},
   "outputs": [
    {
     "data": {
      "text/plain": [
       "1910"
      ]
     },
     "execution_count": 10,
     "metadata": {},
     "output_type": "execute_result"
    }
   ],
   "source": [
    "number_of_lines()"
   ]
  },
  {
   "cell_type": "markdown",
   "metadata": {},
   "source": [
    "### Write a function count_number_of_lines which returns the count of the number of lines starting with Subject: in the file /cxldata/datasets/project/mbox-short.txt\n",
    "\n",
    "### PS - If your logic is correct then your function should return 27."
   ]
  },
  {
   "cell_type": "code",
   "execution_count": 3,
   "metadata": {},
   "outputs": [],
   "source": [
    "import re\n",
    "def count_number_of_lines():\n",
    "    count = 0\n",
    "    with open('/cxldata/datasets/project/mbox-short.txt','r') as fhand:\n",
    "        for line in fhand:\n",
    "            if(re.findall('Subject:',line)):\n",
    "                count+=1\n",
    "    return count"
   ]
  },
  {
   "cell_type": "code",
   "execution_count": 4,
   "metadata": {},
   "outputs": [
    {
     "data": {
      "text/plain": [
       "27"
      ]
     },
     "execution_count": 4,
     "metadata": {},
     "output_type": "execute_result"
    }
   ],
   "source": [
    "count_number_of_lines()"
   ]
  },
  {
   "cell_type": "markdown",
   "metadata": {},
   "source": [
    "### Define a function average_spam_confidence which calculates the average spam confidence and returns it\n",
    "### Open the file mbox-short.txt which is located at /cxldata/datasets/project/mbox-short.txt\n",
    "### Loop through the file handle\n",
    "### Select only those lines starts with X-DSPAM-Confidence:\n",
    "### Split the lines at : and take the float value which is spam confidence\n",
    "### Find the average of this spam confidence in the entire file and return it.\n",
    "### PS - If your logic is correct then the correct spam confidence score should be 0.7507185185185187."
   ]
  },
  {
   "cell_type": "code",
   "execution_count": 14,
   "metadata": {},
   "outputs": [],
   "source": [
    "def average_spam_confidence():\n",
    "    total_spam_confidence = 0\n",
    "    count = 0\n",
    "    with open('/cxldata/datasets/project/mbox-short.txt','r') as fhand:\n",
    "        for line in fhand:\n",
    "            if(line.startswith('X-DSPAM-Confidence:')):\n",
    "                lst = line.split(':')\n",
    "                total_spam_confidence+=float(lst[1])\n",
    "                count+=1\n",
    "    average_spam_confidence_val = total_spam_confidence/count\n",
    "    return average_spam_confidence_val "
   ]
  },
  {
   "cell_type": "code",
   "execution_count": 15,
   "metadata": {},
   "outputs": [
    {
     "data": {
      "text/plain": [
       "0.7507185185185187"
      ]
     },
     "execution_count": 15,
     "metadata": {},
     "output_type": "execute_result"
    }
   ],
   "source": [
    "average_spam_confidence()"
   ]
  },
  {
   "cell_type": "markdown",
   "metadata": {},
   "source": [
    "### Write a function find_email_sent_days which reads the file /cxldata/datasets/project/mbox-short.txt and categorizes each mail message by which day of the week the email was sent.\n",
    "\n",
    "### To do this do the following:\n",
    "\n",
    "### Open the file and read it line by line\n",
    "### Look for lines that start with \"From\"\n",
    "### For those lines which start from \"From\", then look for the third word and keep a running count of each of the days of the week. \n",
    "### Note: You have to store the results in a dictionary. Only store those day of the week that exists. For Example, if there is no line for Mon then it should not be in the dictionary elements.\n",
    "\n",
    "### At the end of the program return the contents of your dictionary (order does not matter)"
   ]
  },
  {
   "cell_type": "code",
   "execution_count": 13,
   "metadata": {},
   "outputs": [],
   "source": [
    "import re\n",
    "def find_email_sent_days():\n",
    "    out_dict = {}\n",
    "    with open('/cxldata/datasets/project/mbox-short.txt','r') as fhand:\n",
    "        for line in fhand:\n",
    "            if(re.findall('From[^:]',line)):\n",
    "                lst = line.split()\n",
    "                if(lst[2] not in out_dict):\n",
    "                    out_dict.setdefault(lst[2],1)\n",
    "                else:\n",
    "                    out_dict[lst[2]]+=1\n",
    "    return out_dict"
   ]
  },
  {
   "cell_type": "code",
   "execution_count": 14,
   "metadata": {},
   "outputs": [
    {
     "data": {
      "text/plain": [
       "{'Sat': 1, 'Fri': 20, 'Thu': 6}"
      ]
     },
     "execution_count": 14,
     "metadata": {},
     "output_type": "execute_result"
    }
   ],
   "source": [
    "find_email_sent_days()"
   ]
  },
  {
   "cell_type": "markdown",
   "metadata": {},
   "source": [
    "### Write a function count_message_from_email which reads the file /cxldata/datasets/project/mbox-short.txt.\n",
    "\n",
    "### This function builds a histogram using a dictionary to count how many messages have come from each email address and returns the dictionary.\n",
    "\n",
    "### Output:\n",
    "\n",
    "### If your logic is correct then your function should return a dictionary like the following:\n",
    "\n",
    "### {'stephen.marquard@uct.ac.za': 2, 'louis@media.berkeley.edu': 3, 'zqian@umich.edu': 4, 'rjlowe@iupui.edu': 2, 'cwen@iupui.edu': 5, 'gsilver@umich.edu': 3, 'wagnermr@iupui.edu': 1, 'antranig@caret.cam.ac.uk': 1, 'gopal.ramasammycook@gmail.com': 1, 'david.horwitz@uct.ac.za': 4, 'ray@media.berkeley.edu': 1}"
   ]
  },
  {
   "cell_type": "code",
   "execution_count": 5,
   "metadata": {},
   "outputs": [],
   "source": [
    "import re\n",
    "def count_message_from_email():\n",
    "    out_dict = {}\n",
    "    with open('/cxldata/datasets/project/mbox-short.txt','r') as fhand:\n",
    "        for line in fhand:\n",
    "            if(re.findall('From[^:]',line)):\n",
    "                lst = line.split()\n",
    "                if(lst[1] not in out_dict):\n",
    "                    out_dict.setdefault(lst[1],1)\n",
    "                else:\n",
    "                    out_dict[lst[1]]+=1\n",
    "    return out_dict"
   ]
  },
  {
   "cell_type": "code",
   "execution_count": 6,
   "metadata": {},
   "outputs": [
    {
     "data": {
      "text/plain": [
       "{'stephen.marquard@uct.ac.za': 2,\n",
       " 'louis@media.berkeley.edu': 3,\n",
       " 'zqian@umich.edu': 4,\n",
       " 'rjlowe@iupui.edu': 2,\n",
       " 'cwen@iupui.edu': 5,\n",
       " 'gsilver@umich.edu': 3,\n",
       " 'wagnermr@iupui.edu': 1,\n",
       " 'antranig@caret.cam.ac.uk': 1,\n",
       " 'gopal.ramasammycook@gmail.com': 1,\n",
       " 'david.horwitz@uct.ac.za': 4,\n",
       " 'ray@media.berkeley.edu': 1}"
      ]
     },
     "execution_count": 6,
     "metadata": {},
     "output_type": "execute_result"
    }
   ],
   "source": [
    "count_message_from_email()"
   ]
  },
  {
   "cell_type": "markdown",
   "metadata": {},
   "source": [
    "### Write a function count_message_from_domain which reads the file /cxldata/datasets/project/mbox-short.txt.\n",
    "\n",
    "### This function builds a histogram using a dictionary to count how many messages have come from each domain(Instead of from email address), and returns the dictionary.\n",
    "\n",
    "### If your logic is correct then your function should return below dictionary\n",
    "\n",
    "### {'uct.ac.za': 6,\n",
    "###  'media.berkeley.edu': 4,\n",
    "###  'umich.edu': 7,\n",
    "###  'iupui.edu': 8,\n",
    "### 'caret.cam.ac.uk': 1,\n",
    "###  'gmail.com': 1}"
   ]
  },
  {
   "cell_type": "code",
   "execution_count": 1,
   "metadata": {},
   "outputs": [],
   "source": [
    "import re\n",
    "def count_message_from_domain():\n",
    "    out_dict = {}\n",
    "    with open('/cxldata/datasets/project/mbox-short.txt','r') as fhand:\n",
    "        for line in fhand:\n",
    "            if(re.findall('From[^:]',line)):\n",
    "                lst = line.split()\n",
    "                domain_lst = lst[1].split('@')\n",
    "                if(domain_lst[1] not in out_dict):\n",
    "                    out_dict.setdefault(domain_lst[1],1)\n",
    "                else:\n",
    "                    out_dict[domain_lst[1]]+=1\n",
    "    return out_dict"
   ]
  },
  {
   "cell_type": "code",
   "execution_count": 2,
   "metadata": {},
   "outputs": [
    {
     "data": {
      "text/plain": [
       "{'uct.ac.za': 6,\n",
       " 'media.berkeley.edu': 4,\n",
       " 'umich.edu': 7,\n",
       " 'iupui.edu': 8,\n",
       " 'caret.cam.ac.uk': 1,\n",
       " 'gmail.com': 1}"
      ]
     },
     "execution_count": 2,
     "metadata": {},
     "output_type": "execute_result"
    }
   ],
   "source": [
    "count_message_from_domain()"
   ]
  },
  {
   "cell_type": "code",
   "execution_count": null,
   "metadata": {},
   "outputs": [],
   "source": []
  }
 ],
 "metadata": {
  "kernelspec": {
   "display_name": "Python 3",
   "language": "python",
   "name": "python3"
  },
  "language_info": {
   "codemirror_mode": {
    "name": "ipython",
    "version": 3
   },
   "file_extension": ".py",
   "mimetype": "text/x-python",
   "name": "python",
   "nbconvert_exporter": "python",
   "pygments_lexer": "ipython3",
   "version": "3.6.8"
  },
  "toc": {
   "base_numbering": 1,
   "nav_menu": {},
   "number_sections": true,
   "sideBar": true,
   "skip_h1_title": false,
   "title_cell": "Table of Contents",
   "title_sidebar": "Contents",
   "toc_cell": false,
   "toc_position": {},
   "toc_section_display": true,
   "toc_window_display": false
  }
 },
 "nbformat": 4,
 "nbformat_minor": 2
}
