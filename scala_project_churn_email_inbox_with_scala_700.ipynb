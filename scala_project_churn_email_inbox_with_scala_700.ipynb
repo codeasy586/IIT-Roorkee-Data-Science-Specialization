{
 "cells": [
  {
   "cell_type": "markdown",
   "metadata": {},
   "source": [
    "### Define a function number_of_lines\n",
    "###  Open the file mbox-short.txt which is located at cxldata/datasets/project/mbox-short.txt and read it to get each line using getLines function\n",
    "### Write the logic to count the total number of lines\n",
    "### Return the count of the number of lines\n",
    "###  Call the function in the next cell\n",
    "### Note: If your logic is correct then your function should return 1910."
   ]
  },
  {
   "cell_type": "code",
   "execution_count": 1,
   "metadata": {},
   "outputs": [
    {
     "data": {
      "text/plain": [
       "number_of_lines: ()Int\n"
      ]
     },
     "metadata": {},
     "output_type": "display_data"
    }
   ],
   "source": [
    "import scala.io.Source\n",
    "def number_of_lines(): Int = {\n",
    "    var count: Int = 0\n",
    "    for(line<-Source.fromFile(\"/cxldata/datasets/project/mbox-short.txt\").getLines){\n",
    "        count = count + 1\n",
    "    }\n",
    "    return count;\n",
    "}"
   ]
  },
  {
   "cell_type": "code",
   "execution_count": 2,
   "metadata": {},
   "outputs": [
    {
     "data": {
      "text/plain": [
       "1910"
      ]
     },
     "execution_count": 2,
     "metadata": {},
     "output_type": "execute_result"
    }
   ],
   "source": [
    "number_of_lines()"
   ]
  },
  {
   "cell_type": "markdown",
   "metadata": {},
   "source": [
    "### Define a function count_subject_lines\n",
    "### Open the file mbox-short.txt which is located at /cxldata/datasets/project/mbox-short.txt and read it to get each line using getLines function\n",
    "### Write the logic to count the total number of lines starting with Subject:\n",
    "### Return the count of the number of lines\n",
    "### Call the function in the next cell\n",
    "### Note: If your logic is correct then your function should return 27."
   ]
  },
  {
   "cell_type": "code",
   "execution_count": 3,
   "metadata": {},
   "outputs": [
    {
     "data": {
      "text/plain": [
       "count_subject_lines: ()Int\n"
      ]
     },
     "metadata": {},
     "output_type": "display_data"
    }
   ],
   "source": [
    "import scala.io.Source\n",
    "def count_subject_lines(): Int = {\n",
    "    var count_lines: Int = 0\n",
    "    val fileName = \"/cxldata/datasets/project/mbox-short.txt\"\n",
    "    for(line<-Source.fromFile(fileName).getLines()){\n",
    "        if(line.startsWith(\"Subject:\")){\n",
    "            count_lines += 1;\n",
    "        }\n",
    "    }\n",
    "    return count_lines\n",
    "}"
   ]
  },
  {
   "cell_type": "code",
   "execution_count": 4,
   "metadata": {},
   "outputs": [
    {
     "data": {
      "text/plain": [
       "27"
      ]
     },
     "execution_count": 4,
     "metadata": {},
     "output_type": "execute_result"
    }
   ],
   "source": [
    "count_subject_lines()"
   ]
  },
  {
   "cell_type": "markdown",
   "metadata": {},
   "source": [
    "### Define a function average_spam_confidence which calculates the average spam confidence and returns it\n",
    "### Open the file mbox-short.txt which is located at /cxldata/datasets/project/mbox-short.txt\n",
    "### Select only those lines starts with X-DSPAM-Confidence:\n",
    "### Split the lines at : and take the string value which is spam confidence\n",
    "### Convert that string value into float\n",
    "### Find the average of this spam confidence in the entire file and return it\n",
    "### Finally print the average spam confidence by calling the function from a new cell.\n",
    "### Note: If your logic is correct then the correct spam confidence score should be 0.7507186."
   ]
  },
  {
   "cell_type": "code",
   "execution_count": 5,
   "metadata": {},
   "outputs": [
    {
     "data": {
      "text/plain": [
       "average_spam_confidence: ()Float\n"
      ]
     },
     "metadata": {},
     "output_type": "display_data"
    }
   ],
   "source": [
    "import scala.io.Source\n",
    "def average_spam_confidence(): Float = {\n",
    "    var spam_confidence: Float = 0\n",
    "    var average_spam_confidence: Float = 0\n",
    "    var count: Int = 0\n",
    "    var splittedContent: Array[String] = Array()\n",
    "    val fileName = \"/cxldata/datasets/project/mbox-short.txt\"\n",
    "    for(line<-Source.fromFile(fileName).getLines()){\n",
    "            if(line.startsWith(\"X-DSPAM-Confidence:\")){\n",
    "            splittedContent = line.split(\":\")\n",
    "            spam_confidence += splittedContent(1).toFloat\n",
    "            count += 1\n",
    "          }\n",
    "        \n",
    "     }\n",
    "    average_spam_confidence = spam_confidence/count\n",
    "    return average_spam_confidence\n",
    "}\n"
   ]
  },
  {
   "cell_type": "code",
   "execution_count": 6,
   "metadata": {},
   "outputs": [
    {
     "data": {
      "text/plain": [
       "0.7507186"
      ]
     },
     "execution_count": 6,
     "metadata": {},
     "output_type": "execute_result"
    }
   ],
   "source": [
    "average_spam_confidence()"
   ]
  },
  {
   "cell_type": "markdown",
   "metadata": {},
   "source": [
    "### Write a function find_email_sent_days which reads the file /cxldata/datasets/project/mbox-short.txt and categorizes each mail message by which day of the week the email was sent.\n",
    "\n",
    "### To do this do the following:\n",
    "\n",
    "### Open the file and read it line by line\n",
    "### Look for lines that start with \"From\"\n",
    "### For those lines which start from \"From\", then look for the third word and keep a running count of each of the days of the week. How do you find the day of the week, is an exercise for you.\n",
    "### Note: You have to store the results in a Map. Only store those day of the week that exists. For Example, if there is no line for Mon then it should not be in the Map elements.\n",
    "\n",
    "### At the end of the program return the contents of your Map (order does not matter)"
   ]
  },
  {
   "cell_type": "code",
   "execution_count": 8,
   "metadata": {
    "code_folding": []
   },
   "outputs": [
    {
     "data": {
      "text/plain": [
       "find_email_sent_days: ()scala.collection.mutable.Map[String,Int]\n"
      ]
     },
     "metadata": {},
     "output_type": "display_data"
    }
   ],
   "source": [
    "import scala.io.Source\n",
    "import scala.collection.mutable.Map\n",
    "\n",
    "def find_email_sent_days(): Map[String,Int] = {\n",
    "    var day_email_week = Map[String,Int]()\n",
    "    var splittedContent = new Array[String](0)\n",
    "    var day = \"\"\n",
    "    val fileName = \"/cxldata/datasets/project/mbox-short.txt\"\n",
    "    for(line<-Source.fromFile(fileName).getLines()){\n",
    "        if(line.startsWith(\"From\")){\n",
    "            splittedContent = line.split(\" \")\n",
    "            if(splittedContent.size>3){\n",
    "                day = splittedContent(2)\n",
    "                if(day_email_week.contains(day)){\n",
    "                    day_email_week(day) +=1\n",
    "                }\n",
    "                else{\n",
    "                    day_email_week(day) = 1\n",
    "                }\n",
    "            }\n",
    "            \n",
    "        }\n",
    "\n",
    "    }\n",
    "    return day_email_week\n",
    "}"
   ]
  },
  {
   "cell_type": "code",
   "execution_count": 9,
   "metadata": {},
   "outputs": [
    {
     "data": {
      "text/plain": [
       "Map(Thu -> 6, Fri -> 20, Sat -> 1)"
      ]
     },
     "execution_count": 9,
     "metadata": {},
     "output_type": "execute_result"
    }
   ],
   "source": [
    "find_email_sent_days()\n",
    "    "
   ]
  },
  {
   "cell_type": "markdown",
   "metadata": {},
   "source": [
    "### Write a function count_message_from_email which reads the file /cxldata/datasets/project/mbox-short.txt.\n",
    "\n",
    "### This function counts how many messages have come from each email address, stores the count in a Map, and then returns the Map. The email can be found by second word after you split every line that starts with 'From:'"
   ]
  },
  {
   "cell_type": "code",
   "execution_count": 10,
   "metadata": {},
   "outputs": [
    {
     "data": {
      "text/plain": [
       "count_message_from_email: ()scala.collection.mutable.Map[String,Int]\n"
      ]
     },
     "metadata": {},
     "output_type": "display_data"
    }
   ],
   "source": [
    "import scala.io.Source\n",
    "import scala.collection.mutable.Map\n",
    "\n",
    "def count_message_from_email(): Map[String,Int] = {\n",
    "    var count_email_map = Map[String,Int]()\n",
    "    var splittedContent = new Array[String](0)\n",
    "    var email: String = \"\"\n",
    "    var fileName: String = \"/cxldata/datasets/project/mbox-short.txt\"\n",
    "    for(line<-Source.fromFile(fileName).getLines()){\n",
    "        if(line.startsWith(\"From:\")){\n",
    "            splittedContent = line.split(\" \")\n",
    "            if(splittedContent.size>1){\n",
    "                email = splittedContent(1)\n",
    "                if(count_email_map.contains(email)){\n",
    "                    count_email_map(email) += 1\n",
    "                }\n",
    "                else{\n",
    "                    count_email_map(email) = 1\n",
    "                }\n",
    "            }\n",
    "        }\n",
    "    }\n",
    "    return count_email_map\n",
    "}"
   ]
  },
  {
   "cell_type": "code",
   "execution_count": 11,
   "metadata": {},
   "outputs": [
    {
     "data": {
      "text/plain": [
       "Map(zqian@umich.edu -> 4, rjlowe@iupui.edu -> 2, stephen.marquard@uct.ac.za -> 2, louis@media.berkeley.edu -> 3, gopal.ramasammycook@gmail.com -> 1, gsilver@umich.edu -> 3, david.horwitz@uct.ac.za -> 4, ray@media.berkeley.edu -> 1, antranig@caret.cam.ac.uk -> 1, wagnermr@iupui.edu -> 1, cwen@iupui.edu -> 5)"
      ]
     },
     "execution_count": 11,
     "metadata": {},
     "output_type": "execute_result"
    }
   ],
   "source": [
    "count_message_from_email()"
   ]
  },
  {
   "cell_type": "markdown",
   "metadata": {},
   "source": [
    "### Write a function count_message_from_domain which reads the file /cxldata/datasets/project/mbox-short.txt.\n",
    "\n",
    "### This function counts how many messages have come from each domain, stores the count in a Map, and then returns the Map. The email can be found by second word after you split every line that starts with 'From:'"
   ]
  },
  {
   "cell_type": "code",
   "execution_count": 12,
   "metadata": {},
   "outputs": [
    {
     "data": {
      "text/plain": [
       "count_message_from_domain: ()scala.collection.mutable.Map[String,Int]\n"
      ]
     },
     "metadata": {},
     "output_type": "display_data"
    }
   ],
   "source": [
    "import scala.io.Source\n",
    "import scala.collection.mutable.Map\n",
    "\n",
    "def count_message_from_domain(): Map[String,Int] = {\n",
    "    var first_split = new Array[String](0)\n",
    "    var second_split = new Array[String](0)\n",
    "    var email: String = \"\"\n",
    "    var domain: String = \"\"\n",
    "    var count_message_domain = Map[String,Int]()\n",
    "    val fileName = \"/cxldata/datasets/project/mbox-short.txt\"\n",
    "    for(line<-Source.fromFile(fileName).getLines()){\n",
    "        if(line.startsWith(\"From:\")){\n",
    "            first_split = line.split(\" \")\n",
    "            if(first_split.size>1){\n",
    "                email = first_split(1)\n",
    "                second_split = email.split('@')\n",
    "                domain = second_split(1)\n",
    "                if(count_message_domain.contains(domain)){\n",
    "                    count_message_domain(domain) += 1\n",
    "                }\n",
    "                else{\n",
    "                    count_message_domain(domain) = 1\n",
    "                }\n",
    "            }\n",
    "        }\n",
    "    }\n",
    "    return count_message_domain\n",
    "}"
   ]
  },
  {
   "cell_type": "code",
   "execution_count": 13,
   "metadata": {},
   "outputs": [
    {
     "data": {
      "text/plain": [
       "Map(umich.edu -> 7, media.berkeley.edu -> 4, caret.cam.ac.uk -> 1, uct.ac.za -> 6, iupui.edu -> 8, gmail.com -> 1)"
      ]
     },
     "execution_count": 13,
     "metadata": {},
     "output_type": "execute_result"
    }
   ],
   "source": [
    "count_message_from_domain()"
   ]
  },
  {
   "cell_type": "code",
   "execution_count": null,
   "metadata": {},
   "outputs": [],
   "source": []
  }
 ],
 "metadata": {
  "kernelspec": {
   "display_name": "Apache Toree - Scala",
   "language": "scala",
   "name": "apache_toree_scala"
  },
  "language_info": {
   "codemirror_mode": "text/x-scala",
   "file_extension": ".scala",
   "mimetype": "text/x-scala",
   "name": "scala",
   "pygments_lexer": "scala",
   "version": "2.11.8"
  },
  "toc": {
   "base_numbering": 1,
   "nav_menu": {},
   "number_sections": true,
   "sideBar": true,
   "skip_h1_title": false,
   "title_cell": "Table of Contents",
   "title_sidebar": "Contents",
   "toc_cell": false,
   "toc_position": {},
   "toc_section_display": true,
   "toc_window_display": false
  }
 },
 "nbformat": 4,
 "nbformat_minor": 2
}
